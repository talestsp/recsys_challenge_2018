{
 "cells": [
  {
   "cell_type": "code",
   "execution_count": 3,
   "metadata": {
    "collapsed": false
   },
   "outputs": [
    {
     "data": {
      "text/html": [
       "\n",
       "    <div class=\"bk-root\">\n",
       "        <a href=\"http://bokeh.pydata.org\" target=\"_blank\" class=\"bk-logo bk-logo-small bk-logo-notebook\"></a>\n",
       "        <span id=\"967148d2-abe6-4354-b893-0be3a5051a14\">Loading BokehJS ...</span>\n",
       "    </div>"
      ]
     },
     "metadata": {},
     "output_type": "display_data"
    },
    {
     "data": {
      "application/javascript": [
       "\n",
       "(function(global) {\n",
       "  function now() {\n",
       "    return new Date();\n",
       "  }\n",
       "\n",
       "  var force = true;\n",
       "\n",
       "  if (typeof (window._bokeh_onload_callbacks) === \"undefined\" || force === true) {\n",
       "    window._bokeh_onload_callbacks = [];\n",
       "    window._bokeh_is_loading = undefined;\n",
       "  }\n",
       "\n",
       "\n",
       "  \n",
       "  if (typeof (window._bokeh_timeout) === \"undefined\" || force === true) {\n",
       "    window._bokeh_timeout = Date.now() + 5000;\n",
       "    window._bokeh_failed_load = false;\n",
       "  }\n",
       "\n",
       "  var NB_LOAD_WARNING = {'data': {'text/html':\n",
       "     \"<div style='background-color: #fdd'>\\n\"+\n",
       "     \"<p>\\n\"+\n",
       "     \"BokehJS does not appear to have successfully loaded. If loading BokehJS from CDN, this \\n\"+\n",
       "     \"may be due to a slow or bad network connection. Possible fixes:\\n\"+\n",
       "     \"</p>\\n\"+\n",
       "     \"<ul>\\n\"+\n",
       "     \"<li>re-rerun `output_notebook()` to attempt to load from CDN again, or</li>\\n\"+\n",
       "     \"<li>use INLINE resources instead, as so:</li>\\n\"+\n",
       "     \"</ul>\\n\"+\n",
       "     \"<code>\\n\"+\n",
       "     \"from bokeh.resources import INLINE\\n\"+\n",
       "     \"output_notebook(resources=INLINE)\\n\"+\n",
       "     \"</code>\\n\"+\n",
       "     \"</div>\"}};\n",
       "\n",
       "  function display_loaded() {\n",
       "    if (window.Bokeh !== undefined) {\n",
       "      var el = document.getElementById(\"967148d2-abe6-4354-b893-0be3a5051a14\");\n",
       "      el.textContent = \"BokehJS \" + Bokeh.version + \" successfully loaded.\";\n",
       "    } else if (Date.now() < window._bokeh_timeout) {\n",
       "      setTimeout(display_loaded, 100)\n",
       "    }\n",
       "  }\n",
       "\n",
       "  function run_callbacks() {\n",
       "    try {\n",
       "      window._bokeh_onload_callbacks.forEach(function(callback) { callback() });\n",
       "    }\n",
       "    finally {\n",
       "      delete window._bokeh_onload_callbacks\n",
       "    }\n",
       "    console.info(\"Bokeh: all callbacks have finished\");\n",
       "  }\n",
       "\n",
       "  function load_libs(js_urls, callback) {\n",
       "    window._bokeh_onload_callbacks.push(callback);\n",
       "    if (window._bokeh_is_loading > 0) {\n",
       "      console.log(\"Bokeh: BokehJS is being loaded, scheduling callback at\", now());\n",
       "      return null;\n",
       "    }\n",
       "    if (js_urls == null || js_urls.length === 0) {\n",
       "      run_callbacks();\n",
       "      return null;\n",
       "    }\n",
       "    console.log(\"Bokeh: BokehJS not loaded, scheduling load and callback at\", now());\n",
       "    window._bokeh_is_loading = js_urls.length;\n",
       "    for (var i = 0; i < js_urls.length; i++) {\n",
       "      var url = js_urls[i];\n",
       "      var s = document.createElement('script');\n",
       "      s.src = url;\n",
       "      s.async = false;\n",
       "      s.onreadystatechange = s.onload = function() {\n",
       "        window._bokeh_is_loading--;\n",
       "        if (window._bokeh_is_loading === 0) {\n",
       "          console.log(\"Bokeh: all BokehJS libraries loaded\");\n",
       "          run_callbacks()\n",
       "        }\n",
       "      };\n",
       "      s.onerror = function() {\n",
       "        console.warn(\"failed to load library \" + url);\n",
       "      };\n",
       "      console.log(\"Bokeh: injecting script tag for BokehJS library: \", url);\n",
       "      document.getElementsByTagName(\"head\")[0].appendChild(s);\n",
       "    }\n",
       "  };var element = document.getElementById(\"967148d2-abe6-4354-b893-0be3a5051a14\");\n",
       "  if (element == null) {\n",
       "    console.log(\"Bokeh: ERROR: autoload.js configured with elementid '967148d2-abe6-4354-b893-0be3a5051a14' but no matching script tag was found. \")\n",
       "    return false;\n",
       "  }\n",
       "\n",
       "  var js_urls = [\"https://cdn.pydata.org/bokeh/release/bokeh-0.12.6.min.js\", \"https://cdn.pydata.org/bokeh/release/bokeh-widgets-0.12.6.min.js\"];\n",
       "\n",
       "  var inline_js = [\n",
       "    function(Bokeh) {\n",
       "      Bokeh.set_log_level(\"info\");\n",
       "    },\n",
       "    \n",
       "    function(Bokeh) {\n",
       "      \n",
       "    },\n",
       "    \n",
       "    function(Bokeh) {\n",
       "      \n",
       "      document.getElementById(\"967148d2-abe6-4354-b893-0be3a5051a14\").textContent = \"BokehJS is loading...\";\n",
       "    },\n",
       "    function(Bokeh) {\n",
       "      console.log(\"Bokeh: injecting CSS: https://cdn.pydata.org/bokeh/release/bokeh-0.12.6.min.css\");\n",
       "      Bokeh.embed.inject_css(\"https://cdn.pydata.org/bokeh/release/bokeh-0.12.6.min.css\");\n",
       "      console.log(\"Bokeh: injecting CSS: https://cdn.pydata.org/bokeh/release/bokeh-widgets-0.12.6.min.css\");\n",
       "      Bokeh.embed.inject_css(\"https://cdn.pydata.org/bokeh/release/bokeh-widgets-0.12.6.min.css\");\n",
       "    }\n",
       "  ];\n",
       "\n",
       "  function run_inline_js() {\n",
       "    \n",
       "    if ((window.Bokeh !== undefined) || (force === true)) {\n",
       "      for (var i = 0; i < inline_js.length; i++) {\n",
       "        inline_js[i](window.Bokeh);\n",
       "      }if (force === true) {\n",
       "        display_loaded();\n",
       "      }} else if (Date.now() < window._bokeh_timeout) {\n",
       "      setTimeout(run_inline_js, 100);\n",
       "    } else if (!window._bokeh_failed_load) {\n",
       "      console.log(\"Bokeh: BokehJS failed to load within specified timeout.\");\n",
       "      window._bokeh_failed_load = true;\n",
       "    } else if (force !== true) {\n",
       "      var cell = $(document.getElementById(\"967148d2-abe6-4354-b893-0be3a5051a14\")).parents('.cell').data().cell;\n",
       "      cell.output_area.append_execute_result(NB_LOAD_WARNING)\n",
       "    }\n",
       "\n",
       "  }\n",
       "\n",
       "  if (window._bokeh_is_loading === 0) {\n",
       "    console.log(\"Bokeh: BokehJS loaded, going straight to plotting\");\n",
       "    run_inline_js();\n",
       "  } else {\n",
       "    load_libs(js_urls, function() {\n",
       "      console.log(\"Bokeh: BokehJS plotting callback run at\", now());\n",
       "      run_inline_js();\n",
       "    });\n",
       "  }\n",
       "}(this));"
      ]
     },
     "metadata": {},
     "output_type": "display_data"
    }
   ],
   "source": [
    "import pandas as pd\n",
    "import os\n",
    "\n",
    "from bokeh.charts import Histogram, Scatter\n",
    "from bokeh.io import output_notebook, show\n",
    "output_notebook()"
   ]
  },
  {
   "cell_type": "code",
   "execution_count": 36,
   "metadata": {
    "collapsed": false
   },
   "outputs": [],
   "source": [
    "def load_data(path):\n",
    "    df = pd.DataFrame()\n",
    "    for filename in os.listdir(path):\n",
    "        if filename.endswith(\".csv\"):\n",
    "            csv_path = path + filename\n",
    "            csv_df = pd.read_csv(csv_path, sep=\";\", names=[\"similar_pid\", \"value\"]).loc[1:]\n",
    "            csv_df[\"pid\"] = [filename.split(\"--\")[1].split(\".csv\")[0]] * len(csv_df)\n",
    "            df = df.append(csv_df)\n",
    "\n",
    "    return df[[\"pid\", \"similar_pid\", \"value\"]]"
   ]
  },
  {
   "cell_type": "code",
   "execution_count": 65,
   "metadata": {
    "collapsed": false
   },
   "outputs": [],
   "source": [
    "intersec = load_data(\"/home/tales.tsp/dev/recsys_challenge_2018/data/experiment/new_metric/\")\n",
    "intersec = intersec.rename(index=str, columns={'value':'intersec'})"
   ]
  },
  {
   "cell_type": "code",
   "execution_count": 38,
   "metadata": {
    "collapsed": false
   },
   "outputs": [
    {
     "data": {
      "text/html": [
       "<div>\n",
       "<table border=\"1\" class=\"dataframe\">\n",
       "  <thead>\n",
       "    <tr style=\"text-align: right;\">\n",
       "      <th></th>\n",
       "      <th>pid</th>\n",
       "      <th>similar_pid</th>\n",
       "      <th>jaccard</th>\n",
       "    </tr>\n",
       "  </thead>\n",
       "  <tbody>\n",
       "    <tr>\n",
       "      <th>1</th>\n",
       "      <td>244143</td>\n",
       "      <td>694618</td>\n",
       "      <td>0.0634</td>\n",
       "    </tr>\n",
       "    <tr>\n",
       "      <th>2</th>\n",
       "      <td>244143</td>\n",
       "      <td>759816</td>\n",
       "      <td>0.0614</td>\n",
       "    </tr>\n",
       "    <tr>\n",
       "      <th>3</th>\n",
       "      <td>244143</td>\n",
       "      <td>405972</td>\n",
       "      <td>0.0606</td>\n",
       "    </tr>\n",
       "    <tr>\n",
       "      <th>4</th>\n",
       "      <td>244143</td>\n",
       "      <td>823127</td>\n",
       "      <td>0.0602</td>\n",
       "    </tr>\n",
       "    <tr>\n",
       "      <th>5</th>\n",
       "      <td>244143</td>\n",
       "      <td>709807</td>\n",
       "      <td>0.0556</td>\n",
       "    </tr>\n",
       "  </tbody>\n",
       "</table>\n",
       "</div>"
      ],
      "text/plain": [
       "      pid  similar_pid  jaccard\n",
       "1  244143       694618   0.0634\n",
       "2  244143       759816   0.0614\n",
       "3  244143       405972   0.0606\n",
       "4  244143       823127   0.0602\n",
       "5  244143       709807   0.0556"
      ]
     },
     "execution_count": 38,
     "metadata": {},
     "output_type": "execute_result"
    }
   ],
   "source": [
    "jaccard = load_data(\"/home/tales.tsp/dev/recsys_challenge_2018/data/experiment/jaccard/\")\n",
    "jaccard = jaccard.rename(index=str, columns={'value':'jaccard'})"
   ]
  },
  {
   "cell_type": "code",
   "execution_count": 55,
   "metadata": {
    "collapsed": false
   },
   "outputs": [
    {
     "name": "stdout",
     "output_type": "stream",
     "text": [
      "309\n"
     ]
    },
    {
     "data": {
      "text/html": [
       "<div>\n",
       "<table border=\"1\" class=\"dataframe\">\n",
       "  <thead>\n",
       "    <tr style=\"text-align: right;\">\n",
       "      <th></th>\n",
       "      <th>pid</th>\n",
       "      <th>similar_pid</th>\n",
       "      <th>jaccard</th>\n",
       "      <th>intersec</th>\n",
       "    </tr>\n",
       "  </thead>\n",
       "  <tbody>\n",
       "    <tr>\n",
       "      <th>0</th>\n",
       "      <td>244143</td>\n",
       "      <td>759816</td>\n",
       "      <td>0.0614</td>\n",
       "      <td>0.1414</td>\n",
       "    </tr>\n",
       "    <tr>\n",
       "      <th>1</th>\n",
       "      <td>244143</td>\n",
       "      <td>354801</td>\n",
       "      <td>0.0507</td>\n",
       "      <td>0.1414</td>\n",
       "    </tr>\n",
       "    <tr>\n",
       "      <th>2</th>\n",
       "      <td>690932</td>\n",
       "      <td>207401</td>\n",
       "      <td>0.0870</td>\n",
       "      <td>0.2500</td>\n",
       "    </tr>\n",
       "    <tr>\n",
       "      <th>3</th>\n",
       "      <td>926</td>\n",
       "      <td>946365</td>\n",
       "      <td>0.1258</td>\n",
       "      <td>0.3167</td>\n",
       "    </tr>\n",
       "    <tr>\n",
       "      <th>4</th>\n",
       "      <td>926</td>\n",
       "      <td>107632</td>\n",
       "      <td>0.1036</td>\n",
       "      <td>0.3833</td>\n",
       "    </tr>\n",
       "  </tbody>\n",
       "</table>\n",
       "</div>"
      ],
      "text/plain": [
       "      pid  similar_pid  jaccard  intersec\n",
       "0  244143       759816   0.0614    0.1414\n",
       "1  244143       354801   0.0507    0.1414\n",
       "2  690932       207401   0.0870    0.2500\n",
       "3     926       946365   0.1258    0.3167\n",
       "4     926       107632   0.1036    0.3833"
      ]
     },
     "execution_count": 55,
     "metadata": {},
     "output_type": "execute_result"
    }
   ],
   "source": [
    "df = pd.merge(jaccard, intersec, how=\"inner\", on=[\"pid\", \"similar_pid\"])\n",
    "print(len(df))\n",
    "df.head()"
   ]
  },
  {
   "cell_type": "markdown",
   "metadata": {},
   "source": [
    " "
   ]
  },
  {
   "cell_type": "code",
   "execution_count": 62,
   "metadata": {
    "collapsed": false
   },
   "outputs": [
    {
     "data": {
      "text/html": [
       "\n",
       "\n",
       "    <div class=\"bk-root\">\n",
       "        <div class=\"bk-plotdiv\" id=\"58fb8625-a010-4209-9f26-fbef25af9e0d\"></div>\n",
       "    </div>\n",
       "<script type=\"text/javascript\">\n",
       "  \n",
       "  (function(global) {\n",
       "    function now() {\n",
       "      return new Date();\n",
       "    }\n",
       "  \n",
       "    var force = false;\n",
       "  \n",
       "    if (typeof (window._bokeh_onload_callbacks) === \"undefined\" || force === true) {\n",
       "      window._bokeh_onload_callbacks = [];\n",
       "      window._bokeh_is_loading = undefined;\n",
       "    }\n",
       "  \n",
       "  \n",
       "    \n",
       "    if (typeof (window._bokeh_timeout) === \"undefined\" || force === true) {\n",
       "      window._bokeh_timeout = Date.now() + 0;\n",
       "      window._bokeh_failed_load = false;\n",
       "    }\n",
       "  \n",
       "    var NB_LOAD_WARNING = {'data': {'text/html':\n",
       "       \"<div style='background-color: #fdd'>\\n\"+\n",
       "       \"<p>\\n\"+\n",
       "       \"BokehJS does not appear to have successfully loaded. If loading BokehJS from CDN, this \\n\"+\n",
       "       \"may be due to a slow or bad network connection. Possible fixes:\\n\"+\n",
       "       \"</p>\\n\"+\n",
       "       \"<ul>\\n\"+\n",
       "       \"<li>re-rerun `output_notebook()` to attempt to load from CDN again, or</li>\\n\"+\n",
       "       \"<li>use INLINE resources instead, as so:</li>\\n\"+\n",
       "       \"</ul>\\n\"+\n",
       "       \"<code>\\n\"+\n",
       "       \"from bokeh.resources import INLINE\\n\"+\n",
       "       \"output_notebook(resources=INLINE)\\n\"+\n",
       "       \"</code>\\n\"+\n",
       "       \"</div>\"}};\n",
       "  \n",
       "    function display_loaded() {\n",
       "      if (window.Bokeh !== undefined) {\n",
       "        var el = document.getElementById(\"58fb8625-a010-4209-9f26-fbef25af9e0d\");\n",
       "        el.textContent = \"BokehJS \" + Bokeh.version + \" successfully loaded.\";\n",
       "      } else if (Date.now() < window._bokeh_timeout) {\n",
       "        setTimeout(display_loaded, 100)\n",
       "      }\n",
       "    }\n",
       "  \n",
       "    function run_callbacks() {\n",
       "      try {\n",
       "        window._bokeh_onload_callbacks.forEach(function(callback) { callback() });\n",
       "      }\n",
       "      finally {\n",
       "        delete window._bokeh_onload_callbacks\n",
       "      }\n",
       "      console.info(\"Bokeh: all callbacks have finished\");\n",
       "    }\n",
       "  \n",
       "    function load_libs(js_urls, callback) {\n",
       "      window._bokeh_onload_callbacks.push(callback);\n",
       "      if (window._bokeh_is_loading > 0) {\n",
       "        console.log(\"Bokeh: BokehJS is being loaded, scheduling callback at\", now());\n",
       "        return null;\n",
       "      }\n",
       "      if (js_urls == null || js_urls.length === 0) {\n",
       "        run_callbacks();\n",
       "        return null;\n",
       "      }\n",
       "      console.log(\"Bokeh: BokehJS not loaded, scheduling load and callback at\", now());\n",
       "      window._bokeh_is_loading = js_urls.length;\n",
       "      for (var i = 0; i < js_urls.length; i++) {\n",
       "        var url = js_urls[i];\n",
       "        var s = document.createElement('script');\n",
       "        s.src = url;\n",
       "        s.async = false;\n",
       "        s.onreadystatechange = s.onload = function() {\n",
       "          window._bokeh_is_loading--;\n",
       "          if (window._bokeh_is_loading === 0) {\n",
       "            console.log(\"Bokeh: all BokehJS libraries loaded\");\n",
       "            run_callbacks()\n",
       "          }\n",
       "        };\n",
       "        s.onerror = function() {\n",
       "          console.warn(\"failed to load library \" + url);\n",
       "        };\n",
       "        console.log(\"Bokeh: injecting script tag for BokehJS library: \", url);\n",
       "        document.getElementsByTagName(\"head\")[0].appendChild(s);\n",
       "      }\n",
       "    };var element = document.getElementById(\"58fb8625-a010-4209-9f26-fbef25af9e0d\");\n",
       "    if (element == null) {\n",
       "      console.log(\"Bokeh: ERROR: autoload.js configured with elementid '58fb8625-a010-4209-9f26-fbef25af9e0d' but no matching script tag was found. \")\n",
       "      return false;\n",
       "    }\n",
       "  \n",
       "    var js_urls = [];\n",
       "  \n",
       "    var inline_js = [\n",
       "      function(Bokeh) {\n",
       "        (function() {\n",
       "          var fn = function() {\n",
       "            var docs_json = {\"9b29e78c-6611-4e67-b1f6-51cecf21b5d0\":{\"roots\":{\"references\":[{\"attributes\":{\"callback\":null,\"end\":1.09718,\"start\":-0.06898},\"id\":\"7c14d28e-7d6d-4036-92a1-43eda3831cb9\",\"type\":\"Range1d\"},{\"attributes\":{\"dimension\":1,\"plot\":{\"id\":\"f8c85b2f-5568-4d25-a49a-3a177a5e8bea\",\"subtype\":\"Chart\",\"type\":\"Plot\"},\"ticker\":{\"id\":\"78f7d2bb-7175-4f9f-846d-63cf1c775335\",\"type\":\"BasicTicker\"}},\"id\":\"30fd73e3-9713-4edb-9d55-cb791fd06dcc\",\"type\":\"Grid\"},{\"attributes\":{},\"id\":\"61828eb0-7ef5-443a-9c37-5e6687d6f037\",\"type\":\"ToolEvents\"},{\"attributes\":{},\"id\":\"bd981d15-0985-458b-ab41-c2fa52d4c4c6\",\"type\":\"LinearScale\"},{\"attributes\":{\"axis_label\":\"intersec\",\"formatter\":{\"id\":\"3c3e2c07-9e2b-40b6-9dab-77917b83abb6\",\"type\":\"BasicTickFormatter\"},\"plot\":{\"id\":\"f8c85b2f-5568-4d25-a49a-3a177a5e8bea\",\"subtype\":\"Chart\",\"type\":\"Plot\"},\"ticker\":{\"id\":\"78f7d2bb-7175-4f9f-846d-63cf1c775335\",\"type\":\"BasicTicker\"}},\"id\":\"33c40fde-7a49-40f0-bfb5-285976be8a7f\",\"type\":\"LinearAxis\"},{\"attributes\":{},\"id\":\"d38ccc58-e086-45b6-89b6-ca5db62983f2\",\"type\":\"LinearScale\"},{\"attributes\":{\"fill_alpha\":{\"value\":0.7},\"fill_color\":{\"value\":\"#f22c40\"},\"line_color\":{\"value\":\"#f22c40\"},\"size\":{\"units\":\"screen\",\"value\":8},\"x\":{\"field\":\"x_values\"},\"y\":{\"field\":\"y_values\"}},\"id\":\"d6148aff-d9c9-4584-80fb-7d4fbad83732\",\"type\":\"Circle\"},{\"attributes\":{},\"id\":\"100ffede-9d7a-40ee-8f64-fd694f5d2b7b\",\"type\":\"BasicTicker\"},{\"attributes\":{\"plot\":{\"id\":\"f8c85b2f-5568-4d25-a49a-3a177a5e8bea\",\"subtype\":\"Chart\",\"type\":\"Plot\"}},\"id\":\"a899843e-9296-4f12-8193-2fd1bb70806b\",\"type\":\"HelpTool\"},{\"attributes\":{\"plot\":{\"id\":\"f8c85b2f-5568-4d25-a49a-3a177a5e8bea\",\"subtype\":\"Chart\",\"type\":\"Plot\"}},\"id\":\"7168b3fa-850b-4d55-98b3-8737f3950304\",\"type\":\"SaveTool\"},{\"attributes\":{\"bottom_units\":\"screen\",\"fill_alpha\":{\"value\":0.5},\"fill_color\":{\"value\":\"lightgrey\"},\"left_units\":\"screen\",\"level\":\"overlay\",\"line_alpha\":{\"value\":1.0},\"line_color\":{\"value\":\"black\"},\"line_dash\":[4,4],\"line_width\":{\"value\":2},\"plot\":null,\"render_mode\":\"css\",\"right_units\":\"screen\",\"top_units\":\"screen\"},\"id\":\"187a3162-db50-44b2-922c-f674461ebf26\",\"type\":\"BoxAnnotation\"},{\"attributes\":{},\"id\":\"3c3e2c07-9e2b-40b6-9dab-77917b83abb6\",\"type\":\"BasicTickFormatter\"},{\"attributes\":{\"callback\":null,\"column_names\":[\"y_values\",\"x_values\"],\"data\":{\"chart_index\":[null,null,null,null,null,null,null,null,null,null,null,null,null,null,null,null,null,null,null,null,null,null,null,null,null,null,null,null,null,null,null,null,null,null,null,null,null,null,null,null,null,null,null,null,null,null,null,null,null,null,null,null,null,null,null,null,null,null,null,null,null,null,null,null,null,null,null,null,null,null,null,null,null,null,null,null,null,null,null,null,null,null,null,null,null,null,null,null,null,null,null,null,null,null,null,null,null,null,null,null,null,null,null,null,null,null,null,null,null,null,null,null,null,null,null,null,null,null,null,null,null,null,null,null,null,null,null,null,null,null,null,null,null,null,null,null,null,null,null,null,null,null,null,null,null,null,null,null,null,null,null,null,null,null,null,null,null,null,null,null,null,null,null,null,null,null,null,null,null,null,null,null,null,null,null,null,null,null,null,null,null,null,null,null,null,null,null,null,null,null,null,null,null,null,null,null,null,null,null,null,null,null,null,null,null,null,null,null,null,null,null,null,null,null,null,null,null,null,null,null,null,null,null,null,null,null,null,null,null,null,null,null,null,null,null,null,null,null,null,null,null,null,null,null,null,null,null,null,null,null,null,null,null,null,null,null,null,null,null,null,null,null,null,null,null,null,null,null,null,null,null,null,null,null,null,null,null,null,null,null,null,null,null,null,null,null,null,null,null,null,null,null,null,null,null,null,null,null,null,null,null,null,null,null,null,null,null,null,null],\"x_values\":{\"__ndarray__\":\"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\",\"dtype\":\"float64\",\"shape\":[309]},\"y_values\":{\"__ndarray__\":\"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\",\"dtype\":\"float64\",\"shape\":[309]}}},\"id\":\"89a3cf0f-966d-40d1-bbbb-37abcb147f90\",\"type\":\"ColumnDataSource\"},{\"attributes\":{\"plot\":{\"id\":\"f8c85b2f-5568-4d25-a49a-3a177a5e8bea\",\"subtype\":\"Chart\",\"type\":\"Plot\"}},\"id\":\"a4e69b2a-e7b4-4136-87c4-5f132d70e3aa\",\"type\":\"WheelZoomTool\"},{\"attributes\":{\"plot\":{\"id\":\"f8c85b2f-5568-4d25-a49a-3a177a5e8bea\",\"subtype\":\"Chart\",\"type\":\"Plot\"},\"ticker\":{\"id\":\"100ffede-9d7a-40ee-8f64-fd694f5d2b7b\",\"type\":\"BasicTicker\"}},\"id\":\"83044a2d-54d0-4c56-ad5e-7d0c0de28ac9\",\"type\":\"Grid\"},{\"attributes\":{\"location\":\"top_left\",\"plot\":{\"id\":\"f8c85b2f-5568-4d25-a49a-3a177a5e8bea\",\"subtype\":\"Chart\",\"type\":\"Plot\"}},\"id\":\"f190e351-93bb-46c4-840b-4ab677ccf1a0\",\"type\":\"Legend\"},{\"attributes\":{\"plot\":{\"id\":\"f8c85b2f-5568-4d25-a49a-3a177a5e8bea\",\"subtype\":\"Chart\",\"type\":\"Plot\"}},\"id\":\"7e910510-2760-4feb-aa0d-23d2e2e63d27\",\"type\":\"ResetTool\"},{\"attributes\":{\"plot\":{\"id\":\"f8c85b2f-5568-4d25-a49a-3a177a5e8bea\",\"subtype\":\"Chart\",\"type\":\"Plot\"}},\"id\":\"859db53b-cc0d-4b95-8c3b-696ab4e5aa47\",\"type\":\"PanTool\"},{\"attributes\":{},\"id\":\"72c8a7bd-9bd1-412e-a9c3-449e57c7bb72\",\"type\":\"BasicTickFormatter\"},{\"attributes\":{\"plot\":null,\"text\":\"Similarities scatter plot\"},\"id\":\"f3c4ca18-b100-4682-bc25-f8c9908a4355\",\"type\":\"Title\"},{\"attributes\":{\"callback\":null,\"end\":1.0682099999999999,\"start\":-0.07431},\"id\":\"e522b046-118d-46af-956b-62f05d331320\",\"type\":\"Range1d\"},{\"attributes\":{\"active_drag\":\"auto\",\"active_inspect\":\"auto\",\"active_scroll\":\"auto\",\"active_tap\":\"auto\",\"tools\":[{\"id\":\"859db53b-cc0d-4b95-8c3b-696ab4e5aa47\",\"type\":\"PanTool\"},{\"id\":\"a4e69b2a-e7b4-4136-87c4-5f132d70e3aa\",\"type\":\"WheelZoomTool\"},{\"id\":\"d2defe2c-c929-409f-9830-e7106705384a\",\"type\":\"BoxZoomTool\"},{\"id\":\"7168b3fa-850b-4d55-98b3-8737f3950304\",\"type\":\"SaveTool\"},{\"id\":\"7e910510-2760-4feb-aa0d-23d2e2e63d27\",\"type\":\"ResetTool\"},{\"id\":\"a899843e-9296-4f12-8193-2fd1bb70806b\",\"type\":\"HelpTool\"}]},\"id\":\"c48349d0-dd97-454a-8051-d24729c3c83d\",\"type\":\"Toolbar\"},{\"attributes\":{\"below\":[{\"id\":\"15ade837-242e-4557-87a1-06e62f1c6be2\",\"type\":\"LinearAxis\"}],\"css_classes\":null,\"height\":400,\"left\":[{\"id\":\"33c40fde-7a49-40f0-bfb5-285976be8a7f\",\"type\":\"LinearAxis\"}],\"renderers\":[{\"id\":\"187a3162-db50-44b2-922c-f674461ebf26\",\"type\":\"BoxAnnotation\"},{\"id\":\"1624ebbb-e486-4aea-a945-c2e9a1c4897b\",\"type\":\"GlyphRenderer\"},{\"id\":\"f190e351-93bb-46c4-840b-4ab677ccf1a0\",\"type\":\"Legend\"},{\"id\":\"15ade837-242e-4557-87a1-06e62f1c6be2\",\"type\":\"LinearAxis\"},{\"id\":\"33c40fde-7a49-40f0-bfb5-285976be8a7f\",\"type\":\"LinearAxis\"},{\"id\":\"83044a2d-54d0-4c56-ad5e-7d0c0de28ac9\",\"type\":\"Grid\"},{\"id\":\"30fd73e3-9713-4edb-9d55-cb791fd06dcc\",\"type\":\"Grid\"}],\"title\":{\"id\":\"f3c4ca18-b100-4682-bc25-f8c9908a4355\",\"type\":\"Title\"},\"tool_events\":{\"id\":\"61828eb0-7ef5-443a-9c37-5e6687d6f037\",\"type\":\"ToolEvents\"},\"toolbar\":{\"id\":\"c48349d0-dd97-454a-8051-d24729c3c83d\",\"type\":\"Toolbar\"},\"width\":600,\"x_range\":{\"id\":\"e522b046-118d-46af-956b-62f05d331320\",\"type\":\"Range1d\"},\"x_scale\":{\"id\":\"d38ccc58-e086-45b6-89b6-ca5db62983f2\",\"type\":\"LinearScale\"},\"y_range\":{\"id\":\"7c14d28e-7d6d-4036-92a1-43eda3831cb9\",\"type\":\"Range1d\"},\"y_scale\":{\"id\":\"bd981d15-0985-458b-ab41-c2fa52d4c4c6\",\"type\":\"LinearScale\"}},\"id\":\"f8c85b2f-5568-4d25-a49a-3a177a5e8bea\",\"subtype\":\"Chart\",\"type\":\"Plot\"},{\"attributes\":{},\"id\":\"78f7d2bb-7175-4f9f-846d-63cf1c775335\",\"type\":\"BasicTicker\"},{\"attributes\":{\"overlay\":{\"id\":\"187a3162-db50-44b2-922c-f674461ebf26\",\"type\":\"BoxAnnotation\"},\"plot\":{\"id\":\"f8c85b2f-5568-4d25-a49a-3a177a5e8bea\",\"subtype\":\"Chart\",\"type\":\"Plot\"}},\"id\":\"d2defe2c-c929-409f-9830-e7106705384a\",\"type\":\"BoxZoomTool\"},{\"attributes\":{\"axis_label\":\"jaccard\",\"formatter\":{\"id\":\"72c8a7bd-9bd1-412e-a9c3-449e57c7bb72\",\"type\":\"BasicTickFormatter\"},\"plot\":{\"id\":\"f8c85b2f-5568-4d25-a49a-3a177a5e8bea\",\"subtype\":\"Chart\",\"type\":\"Plot\"},\"ticker\":{\"id\":\"100ffede-9d7a-40ee-8f64-fd694f5d2b7b\",\"type\":\"BasicTicker\"}},\"id\":\"15ade837-242e-4557-87a1-06e62f1c6be2\",\"type\":\"LinearAxis\"},{\"attributes\":{\"data_source\":{\"id\":\"89a3cf0f-966d-40d1-bbbb-37abcb147f90\",\"type\":\"ColumnDataSource\"},\"glyph\":{\"id\":\"d6148aff-d9c9-4584-80fb-7d4fbad83732\",\"type\":\"Circle\"},\"hover_glyph\":null,\"muted_glyph\":null},\"id\":\"1624ebbb-e486-4aea-a945-c2e9a1c4897b\",\"type\":\"GlyphRenderer\"}],\"root_ids\":[\"f8c85b2f-5568-4d25-a49a-3a177a5e8bea\"]},\"title\":\"Bokeh Application\",\"version\":\"0.12.6\"}};\n",
       "            var render_items = [{\"docid\":\"9b29e78c-6611-4e67-b1f6-51cecf21b5d0\",\"elementid\":\"58fb8625-a010-4209-9f26-fbef25af9e0d\",\"modelid\":\"f8c85b2f-5568-4d25-a49a-3a177a5e8bea\"}];\n",
       "            \n",
       "            Bokeh.embed.embed_items(docs_json, render_items);\n",
       "          };\n",
       "          if (document.readyState != \"loading\") fn();\n",
       "          else document.addEventListener(\"DOMContentLoaded\", fn);\n",
       "        })();\n",
       "      },\n",
       "      function(Bokeh) {\n",
       "      }\n",
       "    ];\n",
       "  \n",
       "    function run_inline_js() {\n",
       "      \n",
       "      if ((window.Bokeh !== undefined) || (force === true)) {\n",
       "        for (var i = 0; i < inline_js.length; i++) {\n",
       "          inline_js[i](window.Bokeh);\n",
       "        }if (force === true) {\n",
       "          display_loaded();\n",
       "        }} else if (Date.now() < window._bokeh_timeout) {\n",
       "        setTimeout(run_inline_js, 100);\n",
       "      } else if (!window._bokeh_failed_load) {\n",
       "        console.log(\"Bokeh: BokehJS failed to load within specified timeout.\");\n",
       "        window._bokeh_failed_load = true;\n",
       "      } else if (force !== true) {\n",
       "        var cell = $(document.getElementById(\"58fb8625-a010-4209-9f26-fbef25af9e0d\")).parents('.cell').data().cell;\n",
       "        cell.output_area.append_execute_result(NB_LOAD_WARNING)\n",
       "      }\n",
       "  \n",
       "    }\n",
       "  \n",
       "    if (window._bokeh_is_loading === 0) {\n",
       "      console.log(\"Bokeh: BokehJS loaded, going straight to plotting\");\n",
       "      run_inline_js();\n",
       "    } else {\n",
       "      load_libs(js_urls, function() {\n",
       "        console.log(\"Bokeh: BokehJS plotting callback run at\", now());\n",
       "        run_inline_js();\n",
       "      });\n",
       "    }\n",
       "  }(this));\n",
       "</script>"
      ]
     },
     "metadata": {},
     "output_type": "display_data"
    }
   ],
   "source": [
    "p = Scatter(df, x='jaccard', y='intersec', title=\"Similarities scatter plot\",\n",
    "            xlabel=\"jaccard\", ylabel=\"intersec\",\n",
    "            width=600, height=400)\n",
    "show(p)"
   ]
  },
  {
   "cell_type": "code",
   "execution_count": 64,
   "metadata": {
    "collapsed": false
   },
   "outputs": [
    {
     "data": {
      "text/plain": [
       "0.85031638190296566"
      ]
     },
     "execution_count": 64,
     "metadata": {},
     "output_type": "execute_result"
    }
   ],
   "source": [
    "df['jaccard'].corr(df['intersec'], method=\"spearman\")"
   ]
  },
  {
   "cell_type": "code",
   "execution_count": 66,
   "metadata": {
    "collapsed": false
   },
   "outputs": [
    {
     "data": {
      "text/plain": [
       "0.14428372585583413"
      ]
     },
     "execution_count": 66,
     "metadata": {},
     "output_type": "execute_result"
    }
   ],
   "source": [
    "df['jaccard'].std()"
   ]
  },
  {
   "cell_type": "code",
   "execution_count": 67,
   "metadata": {
    "collapsed": false
   },
   "outputs": [
    {
     "data": {
      "text/plain": [
       "0.23383036167176716"
      ]
     },
     "execution_count": 67,
     "metadata": {},
     "output_type": "execute_result"
    }
   ],
   "source": [
    "df['intersec'].std()"
   ]
  }
 ],
 "metadata": {
  "anaconda-cloud": {},
  "kernelspec": {
   "display_name": "Python [default]",
   "language": "python",
   "name": "python3"
  },
  "language_info": {
   "codemirror_mode": {
    "name": "ipython",
    "version": 3
   },
   "file_extension": ".py",
   "mimetype": "text/x-python",
   "name": "python",
   "nbconvert_exporter": "python",
   "pygments_lexer": "ipython3",
   "version": "3.5.2"
  }
 },
 "nbformat": 4,
 "nbformat_minor": 0
}
